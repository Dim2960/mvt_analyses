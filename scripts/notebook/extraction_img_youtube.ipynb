{
 "cells": [
  {
   "cell_type": "code",
   "execution_count": 1,
   "id": "9a1c1ca1",
   "metadata": {},
   "outputs": [],
   "source": [
    "import os\n",
    "import cv2\n",
    "import yt_dlp"
   ]
  },
  {
   "cell_type": "code",
   "execution_count": 2,
   "id": "4f3f9473",
   "metadata": {},
   "outputs": [],
   "source": [
    "def download_youtube_video(url, output_path=\"../../outputs/video_extract_img/video.mp4\"):\n",
    "    output_dir = os.path.dirname(output_path)\n",
    "    os.makedirs(output_dir, exist_ok=True)\n",
    "\n",
    "    ydl_opts = {\n",
    "        'format': 'bestvideo[vcodec^=avc1]+bestaudio[ext=m4a]/mp4',\n",
    "        'outtmpl': output_path,\n",
    "        'merge_output_format': 'mp4',\n",
    "        'quiet': False\n",
    "    }\n",
    "\n",
    "    with yt_dlp.YoutubeDL(ydl_opts) as ydl:\n",
    "        ydl.download([url])\n",
    "    \n",
    "    print(\"Téléchargement terminé.\")\n",
    "    return output_path"
   ]
  },
  {
   "cell_type": "code",
   "execution_count": 3,
   "id": "ba5f1489",
   "metadata": {},
   "outputs": [],
   "source": [
    "def extract_frames(video_path, interval_seconds=60, output_folder=\"../../outputs/video_extract_img/frames\", saved_count=0):\n",
    "    os.makedirs(output_folder, exist_ok=True)\n",
    "\n",
    "    cap = cv2.VideoCapture(video_path)\n",
    "\n",
    "    if not cap.isOpened():\n",
    "        print(f\"❌ Impossible d'ouvrir la vidéo : {video_path}\")\n",
    "        return\n",
    "\n",
    "    fps = cap.get(cv2.CAP_PROP_FPS)\n",
    "    if fps == 0:\n",
    "        print(\"❌ FPS non détecté.\")\n",
    "        return\n",
    "\n",
    "    frame_interval = int(fps * interval_seconds)\n",
    "    print(f\"Extraction d'une image toutes les {interval_seconds}s ({frame_interval} frames)\")\n",
    "\n",
    "    frame_count = 0\n",
    "    saved_count = saved_count\n",
    "\n",
    "    while cap.isOpened():\n",
    "        ret, frame = cap.read()\n",
    "        if not ret:\n",
    "            break\n",
    "\n",
    "        if frame_count % frame_interval == 0:\n",
    "            frame_filename = os.path.join(output_folder, f\"frame_{saved_count:04d}.jpg\")\n",
    "            cv2.imwrite(frame_filename, frame)\n",
    "            print(f\"✅ Image enregistrée : {frame_filename}\")\n",
    "            saved_count += 1\n",
    "\n",
    "        frame_count += 1\n",
    "\n",
    "    cap.release()\n",
    "    print(\"🎉 Extraction terminée.\")\n",
    "\n",
    "    # Suppression du fichier vidéo\n",
    "    if os.path.exists(video_path):\n",
    "        os.remove(video_path)\n",
    "        print(f\"🗑️ Vidéo supprimée : {video_path}\")\n",
    "    else:\n",
    "        print(f\"⚠️ Fichier vidéo introuvable pour suppression : {video_path}\")"
   ]
  },
  {
   "cell_type": "code",
   "execution_count": 4,
   "id": "bf2d4a35",
   "metadata": {},
   "outputs": [
    {
     "name": "stdout",
     "output_type": "stream",
     "text": [
      "[youtube] Extracting URL: https://www.youtube.com/watch?v=pQJrgIOplFo\n",
      "[youtube] pQJrgIOplFo: Downloading webpage\n",
      "[youtube] pQJrgIOplFo: Downloading tv client config\n",
      "[youtube] pQJrgIOplFo: Downloading player 73381ccc-main\n",
      "[youtube] pQJrgIOplFo: Downloading tv player API JSON\n",
      "[youtube] pQJrgIOplFo: Downloading ios player API JSON\n",
      "[youtube] pQJrgIOplFo: Downloading m3u8 information\n",
      "[info] pQJrgIOplFo: Downloading 1 format(s): 137+140\n",
      "[download] Destination: ../../outputs/video_extract_img/video.f137.mp4\n",
      "[download] 100% of  254.66MiB in 00:00:06 at 38.71MiB/s    \n",
      "[download] Destination: ../../outputs/video_extract_img/video.f140.m4a\n",
      "[download] 100% of   11.46MiB in 00:00:00 at 18.43MiB/s    \n",
      "[Merger] Merging formats into \"../../outputs/video_extract_img/video.mp4\"\n",
      "Deleting original file ../../outputs/video_extract_img/video.f137.mp4 (pass -k to keep)\n",
      "Deleting original file ../../outputs/video_extract_img/video.f140.m4a (pass -k to keep)\n",
      "Téléchargement terminé.\n",
      "Extraction d'une image toutes les 60s (1800 frames)\n",
      "✅ Image enregistrée : ../../outputs/video_extract_img/frames/frame_0033.jpg\n",
      "✅ Image enregistrée : ../../outputs/video_extract_img/frames/frame_0034.jpg\n",
      "✅ Image enregistrée : ../../outputs/video_extract_img/frames/frame_0035.jpg\n",
      "✅ Image enregistrée : ../../outputs/video_extract_img/frames/frame_0036.jpg\n",
      "✅ Image enregistrée : ../../outputs/video_extract_img/frames/frame_0037.jpg\n",
      "✅ Image enregistrée : ../../outputs/video_extract_img/frames/frame_0038.jpg\n",
      "✅ Image enregistrée : ../../outputs/video_extract_img/frames/frame_0039.jpg\n",
      "✅ Image enregistrée : ../../outputs/video_extract_img/frames/frame_0040.jpg\n",
      "✅ Image enregistrée : ../../outputs/video_extract_img/frames/frame_0041.jpg\n",
      "✅ Image enregistrée : ../../outputs/video_extract_img/frames/frame_0042.jpg\n",
      "✅ Image enregistrée : ../../outputs/video_extract_img/frames/frame_0043.jpg\n",
      "✅ Image enregistrée : ../../outputs/video_extract_img/frames/frame_0044.jpg\n",
      "✅ Image enregistrée : ../../outputs/video_extract_img/frames/frame_0045.jpg\n",
      "🎉 Extraction terminée.\n",
      "🗑️ Vidéo supprimée : ../../outputs/video_extract_img/video.mp4\n"
     ]
    }
   ],
   "source": [
    "\n",
    "video_url = \"https://www.youtube.com/watch?v=pQJrgIOplFo\"\n",
    "interval = 60  # en secondes\n",
    "numero_img = 33 # numéro de la premiere image à enregistrer (suivante de la dernière enregistrée)\n",
    "\n",
    "video_file = download_youtube_video(video_url)\n",
    "extract_frames(video_file, interval_seconds=interval, saved_count=numero_img)\n"
   ]
  }
 ],
 "metadata": {
  "kernelspec": {
   "display_name": ".venv",
   "language": "python",
   "name": "python3"
  },
  "language_info": {
   "codemirror_mode": {
    "name": "ipython",
    "version": 3
   },
   "file_extension": ".py",
   "mimetype": "text/x-python",
   "name": "python",
   "nbconvert_exporter": "python",
   "pygments_lexer": "ipython3",
   "version": "3.10.9"
  }
 },
 "nbformat": 4,
 "nbformat_minor": 5
}
