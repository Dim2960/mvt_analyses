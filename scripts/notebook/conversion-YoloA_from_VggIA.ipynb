{
 "cells": [
  {
   "cell_type": "code",
   "execution_count": 1,
   "metadata": {},
   "outputs": [],
   "source": [
    "import json\n",
    "import os\n",
    "from PIL import Image"
   ]
  },
  {
   "cell_type": "markdown",
   "metadata": {},
   "source": [
    "## fonctions pour la conversion d'annotation de VIA vers Yolo Anotator"
   ]
  },
  {
   "cell_type": "code",
   "execution_count": 2,
   "metadata": {},
   "outputs": [],
   "source": [
    "def load_annotations(json_file):\n",
    "    \"\"\"Charge le fichier JSON d'annotations VIA et extrait les annotations.\"\"\"\n",
    "    with open(json_file, 'r') as f:\n",
    "        data = json.load(f)\n",
    "    # Si le format est VIA, les annotations se trouvent dans \"_via_img_metadata\"\n",
    "    if \"_via_img_metadata\" in data:\n",
    "        return data[\"_via_img_metadata\"]\n",
    "    return data"
   ]
  },
  {
   "cell_type": "code",
   "execution_count": 3,
   "metadata": {},
   "outputs": [],
   "source": [
    "def get_class_mapping(annotations):\n",
    "    \"\"\"\n",
    "    Génère un mapping (classe combinée -> id) à partir des annotations.\n",
    "    Pour chaque région, on parcourt les attributs pour extraire la main classe.\n",
    "    \"\"\"\n",
    "    classes = set()\n",
    "    for key, value in annotations.items():\n",
    "        regions = value.get(\"regions\", [])\n",
    "        # Certains fichiers VIA stockent les régions dans un dictionnaire\n",
    "        if isinstance(regions, dict):\n",
    "            regions = regions.values()\n",
    "        for region in regions:\n",
    "            region_attr = region.get(\"region_attributes\", {})\n",
    "            # On attend qu'une seule clé ait une valeur non vide\n",
    "            for main_key, sub_class in region_attr.items():\n",
    "                if sub_class:  \n",
    "                    # Conversion de \"4x2\" en \"2x4\" pour respecter la nomenclature souhaitée\n",
    "                    main_class = \"2x4\" if main_key == \"4x2\" else main_key\n",
    "                    combined_class = f\"{main_class}_{sub_class}\"\n",
    "                    classes.add(combined_class)\n",
    "                    break  # on considère la première valeur non vide\n",
    "    # Crée un mapping trié pour un ordre stable\n",
    "    class_to_id = {cls: idx for idx, cls in enumerate(sorted(classes))}\n",
    "    return class_to_id"
   ]
  },
  {
   "cell_type": "code",
   "execution_count": 4,
   "metadata": {},
   "outputs": [],
   "source": [
    "def convert_annotations(annotations, images_dir, output_dir, class_mapping):\n",
    "    \"\"\"\n",
    "    Convertit les annotations VIA en fichiers texte au format YOLO.\n",
    "    Pour chaque région, la classe est déterminée .\n",
    "    \"\"\"\n",
    "    if not os.path.exists(output_dir):\n",
    "        os.makedirs(output_dir)\n",
    "    \n",
    "    for key, value in annotations.items():\n",
    "        filename = value.get(\"filename\")\n",
    "        image_path = os.path.join(images_dir, filename)\n",
    "        if not os.path.exists(image_path):\n",
    "            print(f\"Image {image_path} non trouvée, passage...\")\n",
    "            continue\n",
    "        \n",
    "        # Ouvre l'image pour récupérer sa taille\n",
    "        with Image.open(image_path) as img:\n",
    "            img_width, img_height = img.size\n",
    "        \n",
    "        # Fichier de sortie (même nom que l'image, extension .txt)\n",
    "        base_filename = os.path.splitext(filename)[0]\n",
    "        output_file = os.path.join(output_dir, base_filename + \".txt\")\n",
    "        \n",
    "        lines = []\n",
    "        regions = value.get(\"regions\", [])\n",
    "        if isinstance(regions, dict):\n",
    "            regions = regions.values()\n",
    "        for region in regions:\n",
    "            shape_attr = region.get(\"shape_attributes\", {})\n",
    "            region_attr = region.get(\"region_attributes\", {})\n",
    "            \n",
    "            combined_class = None\n",
    "            for main_key, sub_class in region_attr.items():\n",
    "                if sub_class:\n",
    "                    main_class = \"2x4\" if main_key == \"4x2\" else main_key\n",
    "                    combined_class = f\"{main_class}_{sub_class}\"\n",
    "                    break\n",
    "            if combined_class is None:\n",
    "                continue  # pas d'annotation pour cette région\n",
    "            \n",
    "            class_id = class_mapping.get(combined_class)\n",
    "            if class_id is None:\n",
    "                print(f\"Classe {combined_class} non trouvée dans le mapping.\")\n",
    "                continue\n",
    "            \n",
    "            # On traite  les rectangles\n",
    "            if shape_attr.get(\"name\") == \"rect\":\n",
    "                x = shape_attr.get(\"x\", 0)\n",
    "                y = shape_attr.get(\"y\", 0)\n",
    "                width = shape_attr.get(\"width\", 0)\n",
    "                height = shape_attr.get(\"height\", 0)\n",
    "                \n",
    "                # Conversion au format YOLO : coordonnées normalisées\n",
    "                x_center = (x + width/2) / img_width\n",
    "                y_center = (y + height/2) / img_height\n",
    "                width_norm = width / img_width\n",
    "                height_norm = height / img_height\n",
    "                \n",
    "                line = f\"{class_id} {x_center:.6f} {y_center:.6f} {width_norm:.6f} {height_norm:.6f}\"\n",
    "                lines.append(line)\n",
    "            \n",
    "        with open(output_file, \"w\") as f:\n",
    "            f.write(\"\\n\".join(lines))\n",
    "        print(f\"Annotations converties pour {filename} enregistrées dans {output_file}\")"
   ]
  },
  {
   "cell_type": "code",
   "execution_count": 5,
   "metadata": {},
   "outputs": [],
   "source": [
    "def convert_via_to_yolo(json_file, images_dir, output_dir):\n",
    "    \"\"\"\n",
    "    Fonction principale pour convertir les annotations VIA en format YOLO.\n",
    "    \"\"\"\n",
    "    annotations = load_annotations(json_file)\n",
    "    class_mapping = get_class_mapping(annotations)\n",
    "    \n",
    "    # Sauvegarde le mapping dans un fichier classes.txt\n",
    "    classes_file = os.path.join(output_dir, \"classes.txt\")\n",
    "    with open(classes_file, \"w\") as f:\n",
    "        for cls, idx in class_mapping.items():\n",
    "            f.write(f\"{cls}\\n\")\n",
    "    \n",
    "    convert_annotations(annotations, images_dir, output_dir, class_mapping)"
   ]
  },
  {
   "cell_type": "markdown",
   "metadata": {},
   "source": [
    "## Génération yolo annotation pour train_set, val_set"
   ]
  },
  {
   "cell_type": "code",
   "execution_count": 9,
   "metadata": {},
   "outputs": [],
   "source": [
    "# Chemins pour l'étape de train\n",
    "json_file_train_set  = \"../../outputs/VIA_json_fine_tuning/fighters_fineTuning_trainSet.json\"\n",
    "images_dir_train_set = \"../../data/processed/dataset_fine_tuning_fighters/train_set/imgs\"\n",
    "output_dir_train_set = \"../../data/processed/dataset_fine_tuning_fighters/train_set/labels\""
   ]
  },
  {
   "cell_type": "code",
   "execution_count": 12,
   "metadata": {},
   "outputs": [],
   "source": [
    "# # Chemin pour l'étape de train\n",
    "json_file_validation_set  = \"../../outputs/VIA_json_fine_tuning/fighters_fineTuning_validationSet.json\"\n",
    "images_dir_validation_set = \"../../data/processed/dataset_fine_tuning_fighters/validation_set/imgs\"\n",
    "output_dir_train_set      = \"../../data/processed/dataset_fine_tuning_fighters/validation_set/labels\"\n",
    "\n"
   ]
  },
  {
   "cell_type": "code",
   "execution_count": 11,
   "metadata": {},
   "outputs": [
    {
     "name": "stdout",
     "output_type": "stream",
     "text": [
      "Annotations converties pour frame_0000.jpg enregistrées dans ../../data/processed/dataset_fine_tuning_fighters/train_set/labels/frame_0000.txt\n",
      "Annotations converties pour frame_0001.jpg enregistrées dans ../../data/processed/dataset_fine_tuning_fighters/train_set/labels/frame_0001.txt\n",
      "Annotations converties pour frame_0002.jpg enregistrées dans ../../data/processed/dataset_fine_tuning_fighters/train_set/labels/frame_0002.txt\n",
      "Annotations converties pour frame_0003.jpg enregistrées dans ../../data/processed/dataset_fine_tuning_fighters/train_set/labels/frame_0003.txt\n",
      "Annotations converties pour frame_0005.jpg enregistrées dans ../../data/processed/dataset_fine_tuning_fighters/train_set/labels/frame_0005.txt\n",
      "Annotations converties pour frame_0006.jpg enregistrées dans ../../data/processed/dataset_fine_tuning_fighters/train_set/labels/frame_0006.txt\n",
      "Annotations converties pour frame_0007.jpg enregistrées dans ../../data/processed/dataset_fine_tuning_fighters/train_set/labels/frame_0007.txt\n",
      "Annotations converties pour frame_0008.jpg enregistrées dans ../../data/processed/dataset_fine_tuning_fighters/train_set/labels/frame_0008.txt\n",
      "Annotations converties pour frame_0009.jpg enregistrées dans ../../data/processed/dataset_fine_tuning_fighters/train_set/labels/frame_0009.txt\n",
      "Annotations converties pour frame_0010.jpg enregistrées dans ../../data/processed/dataset_fine_tuning_fighters/train_set/labels/frame_0010.txt\n",
      "Annotations converties pour frame_0011.jpg enregistrées dans ../../data/processed/dataset_fine_tuning_fighters/train_set/labels/frame_0011.txt\n",
      "Annotations converties pour frame_0012.jpg enregistrées dans ../../data/processed/dataset_fine_tuning_fighters/train_set/labels/frame_0012.txt\n",
      "Annotations converties pour frame_0013.jpg enregistrées dans ../../data/processed/dataset_fine_tuning_fighters/train_set/labels/frame_0013.txt\n",
      "Annotations converties pour frame_0014.jpg enregistrées dans ../../data/processed/dataset_fine_tuning_fighters/train_set/labels/frame_0014.txt\n",
      "Annotations converties pour frame_0015.jpg enregistrées dans ../../data/processed/dataset_fine_tuning_fighters/train_set/labels/frame_0015.txt\n",
      "Annotations converties pour frame_0016.jpg enregistrées dans ../../data/processed/dataset_fine_tuning_fighters/train_set/labels/frame_0016.txt\n",
      "Annotations converties pour frame_0017.jpg enregistrées dans ../../data/processed/dataset_fine_tuning_fighters/train_set/labels/frame_0017.txt\n",
      "Annotations converties pour frame_0018.jpg enregistrées dans ../../data/processed/dataset_fine_tuning_fighters/train_set/labels/frame_0018.txt\n",
      "Annotations converties pour frame_0019.jpg enregistrées dans ../../data/processed/dataset_fine_tuning_fighters/train_set/labels/frame_0019.txt\n",
      "Annotations converties pour frame_0020.jpg enregistrées dans ../../data/processed/dataset_fine_tuning_fighters/train_set/labels/frame_0020.txt\n",
      "Annotations converties pour frame_0021.jpg enregistrées dans ../../data/processed/dataset_fine_tuning_fighters/train_set/labels/frame_0021.txt\n",
      "Annotations converties pour frame_0022.jpg enregistrées dans ../../data/processed/dataset_fine_tuning_fighters/train_set/labels/frame_0022.txt\n",
      "Annotations converties pour frame_0023.jpg enregistrées dans ../../data/processed/dataset_fine_tuning_fighters/train_set/labels/frame_0023.txt\n",
      "Annotations converties pour frame_0024.jpg enregistrées dans ../../data/processed/dataset_fine_tuning_fighters/train_set/labels/frame_0024.txt\n",
      "Annotations converties pour frame_0025.jpg enregistrées dans ../../data/processed/dataset_fine_tuning_fighters/train_set/labels/frame_0025.txt\n",
      "Annotations converties pour frame_0026.jpg enregistrées dans ../../data/processed/dataset_fine_tuning_fighters/train_set/labels/frame_0026.txt\n",
      "Annotations converties pour frame_0027.jpg enregistrées dans ../../data/processed/dataset_fine_tuning_fighters/train_set/labels/frame_0027.txt\n",
      "Annotations converties pour frame_0028.jpg enregistrées dans ../../data/processed/dataset_fine_tuning_fighters/train_set/labels/frame_0028.txt\n",
      "Annotations converties pour frame_0029.jpg enregistrées dans ../../data/processed/dataset_fine_tuning_fighters/train_set/labels/frame_0029.txt\n",
      "Annotations converties pour frame_0030.jpg enregistrées dans ../../data/processed/dataset_fine_tuning_fighters/train_set/labels/frame_0030.txt\n",
      "Annotations converties pour frame_0031.jpg enregistrées dans ../../data/processed/dataset_fine_tuning_fighters/train_set/labels/frame_0031.txt\n",
      "Annotations converties pour frame_0032.jpg enregistrées dans ../../data/processed/dataset_fine_tuning_fighters/train_set/labels/frame_0032.txt\n"
     ]
    }
   ],
   "source": [
    "# convertir le train_set et enregistrement\n",
    "convert_via_to_yolo(json_file_train_set, images_dir_train_set, output_dir_train_set)\n"
   ]
  },
  {
   "cell_type": "code",
   "execution_count": 13,
   "metadata": {},
   "outputs": [
    {
     "name": "stdout",
     "output_type": "stream",
     "text": [
      "Annotations converties pour frame_0034.jpg enregistrées dans ../../data/processed/dataset_fine_tuning_fighters/validation_set/labels/frame_0034.txt\n",
      "Annotations converties pour frame_0035.jpg enregistrées dans ../../data/processed/dataset_fine_tuning_fighters/validation_set/labels/frame_0035.txt\n",
      "Annotations converties pour frame_0036.jpg enregistrées dans ../../data/processed/dataset_fine_tuning_fighters/validation_set/labels/frame_0036.txt\n",
      "Annotations converties pour frame_0037.jpg enregistrées dans ../../data/processed/dataset_fine_tuning_fighters/validation_set/labels/frame_0037.txt\n",
      "Annotations converties pour frame_0038.jpg enregistrées dans ../../data/processed/dataset_fine_tuning_fighters/validation_set/labels/frame_0038.txt\n",
      "Annotations converties pour frame_0039.jpg enregistrées dans ../../data/processed/dataset_fine_tuning_fighters/validation_set/labels/frame_0039.txt\n",
      "Annotations converties pour frame_0040.jpg enregistrées dans ../../data/processed/dataset_fine_tuning_fighters/validation_set/labels/frame_0040.txt\n",
      "Annotations converties pour frame_0041.jpg enregistrées dans ../../data/processed/dataset_fine_tuning_fighters/validation_set/labels/frame_0041.txt\n",
      "Annotations converties pour frame_0042.jpg enregistrées dans ../../data/processed/dataset_fine_tuning_fighters/validation_set/labels/frame_0042.txt\n",
      "Annotations converties pour frame_0043.jpg enregistrées dans ../../data/processed/dataset_fine_tuning_fighters/validation_set/labels/frame_0043.txt\n",
      "Annotations converties pour frame_0044.jpg enregistrées dans ../../data/processed/dataset_fine_tuning_fighters/validation_set/labels/frame_0044.txt\n",
      "Annotations converties pour frame_0045.jpg enregistrées dans ../../data/processed/dataset_fine_tuning_fighters/validation_set/labels/frame_0045.txt\n",
      "Annotations converties pour frame_0046.jpg enregistrées dans ../../data/processed/dataset_fine_tuning_fighters/validation_set/labels/frame_0046.txt\n",
      "Annotations converties pour frame_0047.jpg enregistrées dans ../../data/processed/dataset_fine_tuning_fighters/validation_set/labels/frame_0047.txt\n",
      "Annotations converties pour frame_0048.jpg enregistrées dans ../../data/processed/dataset_fine_tuning_fighters/validation_set/labels/frame_0048.txt\n",
      "Annotations converties pour frame_0049.jpg enregistrées dans ../../data/processed/dataset_fine_tuning_fighters/validation_set/labels/frame_0049.txt\n"
     ]
    }
   ],
   "source": [
    "# convertir le validation_set et enregistrement\n",
    "convert_via_to_yolo(json_file_validation_set, images_dir_validation_set, output_dir_train_set)"
   ]
  }
 ],
 "metadata": {
  "kernelspec": {
   "display_name": ".venv",
   "language": "python",
   "name": "python3"
  },
  "language_info": {
   "codemirror_mode": {
    "name": "ipython",
    "version": 3
   },
   "file_extension": ".py",
   "mimetype": "text/x-python",
   "name": "python",
   "nbconvert_exporter": "python",
   "pygments_lexer": "ipython3",
   "version": "3.10.9"
  }
 },
 "nbformat": 4,
 "nbformat_minor": 2
}
