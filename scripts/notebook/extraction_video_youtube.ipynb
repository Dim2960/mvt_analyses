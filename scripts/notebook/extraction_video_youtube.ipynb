{
 "cells": [
  {
   "cell_type": "code",
   "execution_count": 1,
   "id": "9a1c1ca1",
   "metadata": {},
   "outputs": [],
   "source": [
    "import os\n",
    "import yt_dlp"
   ]
  },
  {
   "cell_type": "code",
   "execution_count": 3,
   "id": "4f3f9473",
   "metadata": {},
   "outputs": [],
   "source": [
    "def download_youtube_video(url, output_path=\"../../outputs/video_extract_img/video_test.mp4\"):\n",
    "    output_dir = os.path.dirname(output_path)\n",
    "    os.makedirs(output_dir, exist_ok=True)\n",
    "\n",
    "    ydl_opts = {\n",
    "        'format': 'bestvideo[vcodec^=avc1]+bestaudio[ext=m4a]/mp4',\n",
    "        'outtmpl': output_path,\n",
    "        'merge_output_format': 'mp4',\n",
    "        'quiet': False\n",
    "    }\n",
    "\n",
    "    with yt_dlp.YoutubeDL(ydl_opts) as ydl:\n",
    "        ydl.download([url])\n",
    "    \n",
    "    print(\"Téléchargement terminé.\")\n",
    "    return output_path"
   ]
  },
  {
   "cell_type": "code",
   "execution_count": 4,
   "id": "bf2d4a35",
   "metadata": {},
   "outputs": [
    {
     "name": "stdout",
     "output_type": "stream",
     "text": [
      "[youtube] Extracting URL: https://www.youtube.com/watch?v=pQJrgIOplFo\n",
      "[youtube] pQJrgIOplFo: Downloading webpage\n",
      "[youtube] pQJrgIOplFo: Downloading tv client config\n",
      "[youtube] pQJrgIOplFo: Downloading player 73381ccc-main\n",
      "[youtube] pQJrgIOplFo: Downloading tv player API JSON\n",
      "[youtube] pQJrgIOplFo: Downloading ios player API JSON\n",
      "[youtube] pQJrgIOplFo: Downloading m3u8 information\n",
      "[info] pQJrgIOplFo: Downloading 1 format(s): 137+140\n",
      "[download] Destination: ../../outputs/video_extract_img/video_test.f137.mp4\n",
      "[download] 100% of  254.66MiB in 00:00:05 at 49.38MiB/s    \n",
      "[download] Destination: ../../outputs/video_extract_img/video_test.f140.m4a\n",
      "[download] 100% of   11.46MiB in 00:00:00 at 28.37MiB/s    \n",
      "[Merger] Merging formats into \"../../outputs/video_extract_img/video_test.mp4\"\n",
      "Deleting original file ../../outputs/video_extract_img/video_test.f137.mp4 (pass -k to keep)\n",
      "Deleting original file ../../outputs/video_extract_img/video_test.f140.m4a (pass -k to keep)\n",
      "Téléchargement terminé.\n"
     ]
    }
   ],
   "source": [
    "\n",
    "video_url = \"https://www.youtube.com/watch?v=pQJrgIOplFo\"\n",
    "interval = 60  # en secondes\n",
    "numero_img = 33 # numéro de la premiere image à enregistrer (suivante de la dernière enregistrée)\n",
    "\n",
    "video_file = download_youtube_video(video_url)\n",
    "\n"
   ]
  }
 ],
 "metadata": {
  "kernelspec": {
   "display_name": ".venv",
   "language": "python",
   "name": "python3"
  },
  "language_info": {
   "codemirror_mode": {
    "name": "ipython",
    "version": 3
   },
   "file_extension": ".py",
   "mimetype": "text/x-python",
   "name": "python",
   "nbconvert_exporter": "python",
   "pygments_lexer": "ipython3",
   "version": "3.10.9"
  }
 },
 "nbformat": 4,
 "nbformat_minor": 5
}
